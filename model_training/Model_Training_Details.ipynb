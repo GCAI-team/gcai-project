{
  "nbformat": 4,
  "nbformat_minor": 0,
  "metadata": {
    "colab": {
      "provenance": [],
      "collapsed_sections": [
        "AHUX3y8SXkPe"
      ],
      "gpuType": "T4"
    },
    "kernelspec": {
      "name": "python3",
      "display_name": "Python 3"
    },
    "language_info": {
      "name": "python"
    },
    "accelerator": "GPU"
  },
  "cells": [
    {
      "cell_type": "markdown",
      "source": [
        "##GCAI Model Training:\n",
        "*By Edwin Tembo*\n",
        "\n",
        "*This is loosely based on Khazuito00.*"
      ],
      "metadata": {
        "id": "q6Jxm75H1BD0"
      }
    },
    {
      "cell_type": "code",
      "source": [
        "%pip install -q mlflow pyngrok"
      ],
      "metadata": {
        "colab": {
          "base_uri": "https://localhost:8080/"
        },
        "id": "E-2du8SUrFnS",
        "outputId": "35d44719-31c4-4da8-e650-7c49f68bdef0"
      },
      "execution_count": null,
      "outputs": [
        {
          "output_type": "stream",
          "name": "stdout",
          "text": [
            "\u001b[2K   \u001b[90m━━━━━━━━━━━━━━━━━━━━━━━━━━━━━━━━━━━━━━━━\u001b[0m \u001b[32m27.3/27.3 MB\u001b[0m \u001b[31m11.8 MB/s\u001b[0m eta \u001b[36m0:00:00\u001b[0m\n",
            "\u001b[2K   \u001b[90m━━━━━━━━━━━━━━━━━━━━━━━━━━━━━━━━━━━━━━━━\u001b[0m \u001b[32m5.8/5.8 MB\u001b[0m \u001b[31m45.9 MB/s\u001b[0m eta \u001b[36m0:00:00\u001b[0m\n",
            "\u001b[2K   \u001b[90m━━━━━━━━━━━━━━━━━━━━━━━━━━━━━━━━━━━━━━━━\u001b[0m \u001b[32m233.5/233.5 kB\u001b[0m \u001b[31m12.2 MB/s\u001b[0m eta \u001b[36m0:00:00\u001b[0m\n",
            "\u001b[2K   \u001b[90m━━━━━━━━━━━━━━━━━━━━━━━━━━━━━━━━━━━━━━━━\u001b[0m \u001b[32m147.8/147.8 kB\u001b[0m \u001b[31m7.8 MB/s\u001b[0m eta \u001b[36m0:00:00\u001b[0m\n",
            "\u001b[2K   \u001b[90m━━━━━━━━━━━━━━━━━━━━━━━━━━━━━━━━━━━━━━━━\u001b[0m \u001b[32m114.9/114.9 kB\u001b[0m \u001b[31m7.6 MB/s\u001b[0m eta \u001b[36m0:00:00\u001b[0m\n",
            "\u001b[2K   \u001b[90m━━━━━━━━━━━━━━━━━━━━━━━━━━━━━━━━━━━━━━━━\u001b[0m \u001b[32m85.0/85.0 kB\u001b[0m \u001b[31m4.3 MB/s\u001b[0m eta \u001b[36m0:00:00\u001b[0m\n",
            "\u001b[2K   \u001b[90m━━━━━━━━━━━━━━━━━━━━━━━━━━━━━━━━━━━━━━━━\u001b[0m \u001b[32m575.1/575.1 kB\u001b[0m \u001b[31m16.2 MB/s\u001b[0m eta \u001b[36m0:00:00\u001b[0m\n",
            "\u001b[2K   \u001b[90m━━━━━━━━━━━━━━━━━━━━━━━━━━━━━━━━━━━━━━━━\u001b[0m \u001b[32m203.2/203.2 kB\u001b[0m \u001b[31m7.7 MB/s\u001b[0m eta \u001b[36m0:00:00\u001b[0m\n",
            "\u001b[2K   \u001b[90m━━━━━━━━━━━━━━━━━━━━━━━━━━━━━━━━━━━━━━━━\u001b[0m \u001b[32m78.6/78.6 kB\u001b[0m \u001b[31m2.8 MB/s\u001b[0m eta \u001b[36m0:00:00\u001b[0m\n",
            "\u001b[?25h"
          ]
        }
      ]
    },
    {
      "cell_type": "code",
      "execution_count": null,
      "metadata": {
        "id": "QLxPCMzXNFaa"
      },
      "outputs": [],
      "source": [
        "import csv\n",
        "from pyngrok import ngrok\n",
        "import mlflow\n",
        "from mlflow.models import infer_signature\n",
        "import numpy as np\n",
        "import tensorflow as tf\n",
        "import pandas as pd\n",
        "from datetime import datetime\n",
        "from mlflow.models import ModelSignature\n",
        "from mlflow.types.schema import Schema, ColSpec, TensorSpec\n",
        "\n",
        "import matplotlib.pyplot as plt\n",
        "from sklearn.metrics import confusion_matrix, ConfusionMatrixDisplay\n",
        "from sklearn.metrics import classification_report, accuracy_score\n",
        "\n",
        "from sklearn.model_selection import train_test_split\n",
        "from pathlib import Path\n",
        "from google.colab import userdata\n",
        "\n",
        "RANDOM_SEED = 1000\n",
        "TRAIN       = False"
      ]
    },
    {
      "cell_type": "code",
      "source": [
        "mlflow_path       ='/content/drive/MyDrive/HES/ASSIGNMENTS/GCAI/mlflow'\n",
        "!mkdir -p $mlflow_path\n",
        "%env mlflow_path = '/content/drive/MyDrive/HES/ASSIGNMENTS/GCAI/mlflow'"
      ],
      "metadata": {
        "colab": {
          "base_uri": "https://localhost:8080/"
        },
        "id": "jfUYv2DBrnIN",
        "outputId": "ea018be7-b0ce-4a98-b928-5a30b516c643"
      },
      "execution_count": null,
      "outputs": [
        {
          "output_type": "stream",
          "name": "stdout",
          "text": [
            "env: mlflow_path='/content/drive/MyDrive/HES/ASSIGNMENTS/GCAI/mlflow'\n"
          ]
        }
      ]
    },
    {
      "cell_type": "code",
      "source": [
        "PROJECT_NAME = \"TFMODELS\"\n",
        "\n",
        "mlflow_project_path = Path(f\"{mlflow_path}/{PROJECT_NAME}\")\n",
        "mlflow_project_path.mkdir(exist_ok=True)\n",
        "\n",
        "!touch /{mlflow_path}/{PROJECT_NAME}/output.log\n",
        "!nohup mlflow server --backend-store-uri {mlflow_path}/{PROJECT_NAME}/content/mlruns --default-artifact-root /{mlflow_path}/{PROJECT_NAME}/content/mlruns --host 0.0.0.0 --port 5000 > {mlflow_path}/{PROJECT_NAME}/output.log 2>&1 &\n",
        "!pgrep mlflow\n",
        "!pip install pyngrok\n",
        "\n",
        "ngrok_token = userdata.get('ngrok_token')\n",
        "\n",
        "!ngrok config add-authtoken {ngrok_token}\n",
        "service = \"ngrok\"\n",
        "# Find the PID of the ngrok process\n",
        "pids = !pgrep {service}\n",
        "\n",
        "# If ngrok is running, kill it\n",
        "if pids:\n",
        "  pid = pids[0]  # Assuming you want to kill the first ngrok process if there are multiple\n",
        "  !kill -9 {pid}\n",
        "  print(f\"{service} killed\")\n",
        "else:\n",
        "  print(f\"{service} is not running.\")"
      ],
      "metadata": {
        "colab": {
          "base_uri": "https://localhost:8080/"
        },
        "id": "CyeoUZoQr-Q_",
        "outputId": "c6dcd0df-daf6-4e91-96ce-82e11a9e8e3c"
      },
      "execution_count": null,
      "outputs": [
        {
          "output_type": "stream",
          "name": "stdout",
          "text": [
            "2158\n",
            "Requirement already satisfied: pyngrok in /usr/local/lib/python3.10/dist-packages (7.2.1)\n",
            "Requirement already satisfied: PyYAML>=5.1 in /usr/local/lib/python3.10/dist-packages (from pyngrok) (6.0.2)\n",
            "Authtoken saved to configuration file: /root/.config/ngrok/ngrok.yml\n",
            "ngrok is not running.\n"
          ]
        }
      ]
    },
    {
      "cell_type": "code",
      "source": [
        "port = \"5000\"\n",
        "\n",
        "# Open a ngrok tunnel to the HTTP server\n",
        "public_url = ngrok.connect(port).public_url\n",
        "print(\" * ngrok tunnel \\\"{}\\\" -> \\\"http://127.0.0.1:{}\\\"\".format(public_url, port))"
      ],
      "metadata": {
        "colab": {
          "base_uri": "https://localhost:8080/"
        },
        "id": "tHYcw3kLseUG",
        "outputId": "8d59ef90-97be-4fe4-d4ec-54b7cf354f49"
      },
      "execution_count": null,
      "outputs": [
        {
          "output_type": "stream",
          "name": "stdout",
          "text": [
            " * ngrok tunnel \"https://133c-34-125-80-242.ngrok-free.app\" -> \"http://127.0.0.1:5000\"\n"
          ]
        }
      ]
    },
    {
      "cell_type": "code",
      "source": [
        "### using local mlflow server\n",
        "mlflow.set_tracking_uri(uri=\"http://127.0.0.1:5000\")"
      ],
      "metadata": {
        "id": "b0i8vIr-s0n-"
      },
      "execution_count": null,
      "outputs": []
    },
    {
      "cell_type": "code",
      "source": [
        "mlflow.set_experiment(\"/gesture-classification\")"
      ],
      "metadata": {
        "colab": {
          "base_uri": "https://localhost:8080/"
        },
        "id": "T_FPIUwRs8Re",
        "outputId": "8209eca6-bc55-499c-dc39-f641f5a1ae21"
      },
      "execution_count": null,
      "outputs": [
        {
          "output_type": "execute_result",
          "data": {
            "text/plain": [
              "<Experiment: artifact_location='//content/drive/MyDrive/HES/ASSIGNMENTS/GCAI/mlflow/TFMODELS/content/mlruns/398191148141779413', creation_time=1732393654486, experiment_id='398191148141779413', last_update_time=1732393654486, lifecycle_stage='active', name='/gesture-classification', tags={}>"
            ]
          },
          "metadata": {},
          "execution_count": 7
        }
      ]
    },
    {
      "cell_type": "code",
      "source": [
        "\n",
        "df = pd.read_csv('/content/drive/MyDrive/hand_gestures/data/keypoint_z.csv', header=None)"
      ],
      "metadata": {
        "colab": {
          "base_uri": "https://localhost:8080/"
        },
        "id": "zol9BQKgPQvZ",
        "outputId": "23497ec5-f83d-47f2-e266-e62cd0141635"
      },
      "execution_count": null,
      "outputs": [
        {
          "output_type": "stream",
          "name": "stderr",
          "text": [
            "<ipython-input-8-e7d68fbf6073>:1: DtypeWarning: Columns (64) have mixed types. Specify dtype option on import or set low_memory=False.\n",
            "  df = pd.read_csv('/content/drive/MyDrive/hand_gestures/data/keypoint_z.csv', header=None)\n"
          ]
        }
      ]
    },
    {
      "cell_type": "code",
      "source": [
        "df.describe()"
      ],
      "metadata": {
        "colab": {
          "base_uri": "https://localhost:8080/",
          "height": 350
        },
        "id": "QhW3SpUPPRFR",
        "outputId": "054769a5-37dd-4448-a6a4-78eeb32ccdfc"
      },
      "execution_count": null,
      "outputs": [
        {
          "output_type": "execute_result",
          "data": {
            "text/plain": [
              "             0         1         2              3              4   \\\n",
              "count  142071.0  142071.0  142071.0  142071.000000  142071.000000   \n",
              "mean       -1.0       0.0       0.0      -0.016907      -0.119245   \n",
              "std         0.0       0.0       0.0       0.195033       0.142415   \n",
              "min        -1.0       0.0       0.0      -0.588235      -0.616438   \n",
              "25%        -1.0       0.0       0.0      -0.177419      -0.214286   \n",
              "50%        -1.0       0.0       0.0      -0.054054      -0.135135   \n",
              "75%        -1.0       0.0       0.0       0.160000      -0.048780   \n",
              "max        -1.0       0.0       0.0       0.550725       0.500000   \n",
              "\n",
              "                  5              6              7              8   \\\n",
              "count  142071.000000  142071.000000  142071.000000  142071.000000   \n",
              "mean       -0.022606      -0.240823      -0.018459      -0.312427   \n",
              "std         0.358462       0.286593       0.470815       0.412945   \n",
              "min        -1.000000      -1.000000      -1.000000      -1.000000   \n",
              "25%        -0.333333      -0.428571      -0.437500      -0.589744   \n",
              "50%        -0.056338      -0.292683      -0.017241      -0.400000   \n",
              "75%         0.303030      -0.149254       0.406250      -0.153005   \n",
              "max         0.923077       0.833333       1.000000       1.000000   \n",
              "\n",
              "                  9   ...             54             55             56  \\\n",
              "count  142071.000000  ...  142071.000000  142071.000000  142071.000000   \n",
              "mean       -0.011087  ...      -0.665481      -0.697067      -0.381718   \n",
              "std         0.545903  ...       0.336105       0.343082       0.272843   \n",
              "min        -1.000000  ...      -1.000000      -1.000000      -1.000000   \n",
              "25%        -0.481342  ...      -0.855968      -0.906361      -0.550502   \n",
              "50%         0.000000  ...      -0.741724      -0.785495      -0.411144   \n",
              "75%         0.469136  ...      -0.615082      -0.628068      -0.273382   \n",
              "max         1.000000  ...       1.000000       1.000000       1.000000   \n",
              "\n",
              "                  57             58             59             60  \\\n",
              "count  142071.000000  142071.000000  142071.000000  142071.000000   \n",
              "mean       -0.676542      -0.610506      -0.512868      -0.537914   \n",
              "std         0.320490       0.325916       0.341625       0.317921   \n",
              "min        -1.000000      -1.000000      -1.000000      -1.000000   \n",
              "25%        -0.892675      -0.810146      -0.726805      -0.728740   \n",
              "50%        -0.760165      -0.683354      -0.542270      -0.602098   \n",
              "75%        -0.575474      -0.519502      -0.363490      -0.428968   \n",
              "max         0.998994       0.974136       1.000000       1.000000   \n",
              "\n",
              "                  61             62             63  \n",
              "count  142071.000000  142071.000000  142071.000000  \n",
              "mean       -0.708689      -0.596745      -0.471460  \n",
              "std         0.350397       0.372960       0.410909  \n",
              "min        -1.000000      -1.000000      -1.000000  \n",
              "25%        -0.960599      -0.853020      -0.743204  \n",
              "50%        -0.818098      -0.713588      -0.565710  \n",
              "75%        -0.604237      -0.460825      -0.299966  \n",
              "max         1.000000       1.000000       1.000000  \n",
              "\n",
              "[8 rows x 64 columns]"
            ],
            "text/html": [
              "\n",
              "  <div id=\"df-4984121a-d103-4a1b-ac4f-68b04b93606e\" class=\"colab-df-container\">\n",
              "    <div>\n",
              "<style scoped>\n",
              "    .dataframe tbody tr th:only-of-type {\n",
              "        vertical-align: middle;\n",
              "    }\n",
              "\n",
              "    .dataframe tbody tr th {\n",
              "        vertical-align: top;\n",
              "    }\n",
              "\n",
              "    .dataframe thead th {\n",
              "        text-align: right;\n",
              "    }\n",
              "</style>\n",
              "<table border=\"1\" class=\"dataframe\">\n",
              "  <thead>\n",
              "    <tr style=\"text-align: right;\">\n",
              "      <th></th>\n",
              "      <th>0</th>\n",
              "      <th>1</th>\n",
              "      <th>2</th>\n",
              "      <th>3</th>\n",
              "      <th>4</th>\n",
              "      <th>5</th>\n",
              "      <th>6</th>\n",
              "      <th>7</th>\n",
              "      <th>8</th>\n",
              "      <th>9</th>\n",
              "      <th>...</th>\n",
              "      <th>54</th>\n",
              "      <th>55</th>\n",
              "      <th>56</th>\n",
              "      <th>57</th>\n",
              "      <th>58</th>\n",
              "      <th>59</th>\n",
              "      <th>60</th>\n",
              "      <th>61</th>\n",
              "      <th>62</th>\n",
              "      <th>63</th>\n",
              "    </tr>\n",
              "  </thead>\n",
              "  <tbody>\n",
              "    <tr>\n",
              "      <th>count</th>\n",
              "      <td>142071.0</td>\n",
              "      <td>142071.0</td>\n",
              "      <td>142071.0</td>\n",
              "      <td>142071.000000</td>\n",
              "      <td>142071.000000</td>\n",
              "      <td>142071.000000</td>\n",
              "      <td>142071.000000</td>\n",
              "      <td>142071.000000</td>\n",
              "      <td>142071.000000</td>\n",
              "      <td>142071.000000</td>\n",
              "      <td>...</td>\n",
              "      <td>142071.000000</td>\n",
              "      <td>142071.000000</td>\n",
              "      <td>142071.000000</td>\n",
              "      <td>142071.000000</td>\n",
              "      <td>142071.000000</td>\n",
              "      <td>142071.000000</td>\n",
              "      <td>142071.000000</td>\n",
              "      <td>142071.000000</td>\n",
              "      <td>142071.000000</td>\n",
              "      <td>142071.000000</td>\n",
              "    </tr>\n",
              "    <tr>\n",
              "      <th>mean</th>\n",
              "      <td>-1.0</td>\n",
              "      <td>0.0</td>\n",
              "      <td>0.0</td>\n",
              "      <td>-0.016907</td>\n",
              "      <td>-0.119245</td>\n",
              "      <td>-0.022606</td>\n",
              "      <td>-0.240823</td>\n",
              "      <td>-0.018459</td>\n",
              "      <td>-0.312427</td>\n",
              "      <td>-0.011087</td>\n",
              "      <td>...</td>\n",
              "      <td>-0.665481</td>\n",
              "      <td>-0.697067</td>\n",
              "      <td>-0.381718</td>\n",
              "      <td>-0.676542</td>\n",
              "      <td>-0.610506</td>\n",
              "      <td>-0.512868</td>\n",
              "      <td>-0.537914</td>\n",
              "      <td>-0.708689</td>\n",
              "      <td>-0.596745</td>\n",
              "      <td>-0.471460</td>\n",
              "    </tr>\n",
              "    <tr>\n",
              "      <th>std</th>\n",
              "      <td>0.0</td>\n",
              "      <td>0.0</td>\n",
              "      <td>0.0</td>\n",
              "      <td>0.195033</td>\n",
              "      <td>0.142415</td>\n",
              "      <td>0.358462</td>\n",
              "      <td>0.286593</td>\n",
              "      <td>0.470815</td>\n",
              "      <td>0.412945</td>\n",
              "      <td>0.545903</td>\n",
              "      <td>...</td>\n",
              "      <td>0.336105</td>\n",
              "      <td>0.343082</td>\n",
              "      <td>0.272843</td>\n",
              "      <td>0.320490</td>\n",
              "      <td>0.325916</td>\n",
              "      <td>0.341625</td>\n",
              "      <td>0.317921</td>\n",
              "      <td>0.350397</td>\n",
              "      <td>0.372960</td>\n",
              "      <td>0.410909</td>\n",
              "    </tr>\n",
              "    <tr>\n",
              "      <th>min</th>\n",
              "      <td>-1.0</td>\n",
              "      <td>0.0</td>\n",
              "      <td>0.0</td>\n",
              "      <td>-0.588235</td>\n",
              "      <td>-0.616438</td>\n",
              "      <td>-1.000000</td>\n",
              "      <td>-1.000000</td>\n",
              "      <td>-1.000000</td>\n",
              "      <td>-1.000000</td>\n",
              "      <td>-1.000000</td>\n",
              "      <td>...</td>\n",
              "      <td>-1.000000</td>\n",
              "      <td>-1.000000</td>\n",
              "      <td>-1.000000</td>\n",
              "      <td>-1.000000</td>\n",
              "      <td>-1.000000</td>\n",
              "      <td>-1.000000</td>\n",
              "      <td>-1.000000</td>\n",
              "      <td>-1.000000</td>\n",
              "      <td>-1.000000</td>\n",
              "      <td>-1.000000</td>\n",
              "    </tr>\n",
              "    <tr>\n",
              "      <th>25%</th>\n",
              "      <td>-1.0</td>\n",
              "      <td>0.0</td>\n",
              "      <td>0.0</td>\n",
              "      <td>-0.177419</td>\n",
              "      <td>-0.214286</td>\n",
              "      <td>-0.333333</td>\n",
              "      <td>-0.428571</td>\n",
              "      <td>-0.437500</td>\n",
              "      <td>-0.589744</td>\n",
              "      <td>-0.481342</td>\n",
              "      <td>...</td>\n",
              "      <td>-0.855968</td>\n",
              "      <td>-0.906361</td>\n",
              "      <td>-0.550502</td>\n",
              "      <td>-0.892675</td>\n",
              "      <td>-0.810146</td>\n",
              "      <td>-0.726805</td>\n",
              "      <td>-0.728740</td>\n",
              "      <td>-0.960599</td>\n",
              "      <td>-0.853020</td>\n",
              "      <td>-0.743204</td>\n",
              "    </tr>\n",
              "    <tr>\n",
              "      <th>50%</th>\n",
              "      <td>-1.0</td>\n",
              "      <td>0.0</td>\n",
              "      <td>0.0</td>\n",
              "      <td>-0.054054</td>\n",
              "      <td>-0.135135</td>\n",
              "      <td>-0.056338</td>\n",
              "      <td>-0.292683</td>\n",
              "      <td>-0.017241</td>\n",
              "      <td>-0.400000</td>\n",
              "      <td>0.000000</td>\n",
              "      <td>...</td>\n",
              "      <td>-0.741724</td>\n",
              "      <td>-0.785495</td>\n",
              "      <td>-0.411144</td>\n",
              "      <td>-0.760165</td>\n",
              "      <td>-0.683354</td>\n",
              "      <td>-0.542270</td>\n",
              "      <td>-0.602098</td>\n",
              "      <td>-0.818098</td>\n",
              "      <td>-0.713588</td>\n",
              "      <td>-0.565710</td>\n",
              "    </tr>\n",
              "    <tr>\n",
              "      <th>75%</th>\n",
              "      <td>-1.0</td>\n",
              "      <td>0.0</td>\n",
              "      <td>0.0</td>\n",
              "      <td>0.160000</td>\n",
              "      <td>-0.048780</td>\n",
              "      <td>0.303030</td>\n",
              "      <td>-0.149254</td>\n",
              "      <td>0.406250</td>\n",
              "      <td>-0.153005</td>\n",
              "      <td>0.469136</td>\n",
              "      <td>...</td>\n",
              "      <td>-0.615082</td>\n",
              "      <td>-0.628068</td>\n",
              "      <td>-0.273382</td>\n",
              "      <td>-0.575474</td>\n",
              "      <td>-0.519502</td>\n",
              "      <td>-0.363490</td>\n",
              "      <td>-0.428968</td>\n",
              "      <td>-0.604237</td>\n",
              "      <td>-0.460825</td>\n",
              "      <td>-0.299966</td>\n",
              "    </tr>\n",
              "    <tr>\n",
              "      <th>max</th>\n",
              "      <td>-1.0</td>\n",
              "      <td>0.0</td>\n",
              "      <td>0.0</td>\n",
              "      <td>0.550725</td>\n",
              "      <td>0.500000</td>\n",
              "      <td>0.923077</td>\n",
              "      <td>0.833333</td>\n",
              "      <td>1.000000</td>\n",
              "      <td>1.000000</td>\n",
              "      <td>1.000000</td>\n",
              "      <td>...</td>\n",
              "      <td>1.000000</td>\n",
              "      <td>1.000000</td>\n",
              "      <td>1.000000</td>\n",
              "      <td>0.998994</td>\n",
              "      <td>0.974136</td>\n",
              "      <td>1.000000</td>\n",
              "      <td>1.000000</td>\n",
              "      <td>1.000000</td>\n",
              "      <td>1.000000</td>\n",
              "      <td>1.000000</td>\n",
              "    </tr>\n",
              "  </tbody>\n",
              "</table>\n",
              "<p>8 rows × 64 columns</p>\n",
              "</div>\n",
              "    <div class=\"colab-df-buttons\">\n",
              "\n",
              "  <div class=\"colab-df-container\">\n",
              "    <button class=\"colab-df-convert\" onclick=\"convertToInteractive('df-4984121a-d103-4a1b-ac4f-68b04b93606e')\"\n",
              "            title=\"Convert this dataframe to an interactive table.\"\n",
              "            style=\"display:none;\">\n",
              "\n",
              "  <svg xmlns=\"http://www.w3.org/2000/svg\" height=\"24px\" viewBox=\"0 -960 960 960\">\n",
              "    <path d=\"M120-120v-720h720v720H120Zm60-500h600v-160H180v160Zm220 220h160v-160H400v160Zm0 220h160v-160H400v160ZM180-400h160v-160H180v160Zm440 0h160v-160H620v160ZM180-180h160v-160H180v160Zm440 0h160v-160H620v160Z\"/>\n",
              "  </svg>\n",
              "    </button>\n",
              "\n",
              "  <style>\n",
              "    .colab-df-container {\n",
              "      display:flex;\n",
              "      gap: 12px;\n",
              "    }\n",
              "\n",
              "    .colab-df-convert {\n",
              "      background-color: #E8F0FE;\n",
              "      border: none;\n",
              "      border-radius: 50%;\n",
              "      cursor: pointer;\n",
              "      display: none;\n",
              "      fill: #1967D2;\n",
              "      height: 32px;\n",
              "      padding: 0 0 0 0;\n",
              "      width: 32px;\n",
              "    }\n",
              "\n",
              "    .colab-df-convert:hover {\n",
              "      background-color: #E2EBFA;\n",
              "      box-shadow: 0px 1px 2px rgba(60, 64, 67, 0.3), 0px 1px 3px 1px rgba(60, 64, 67, 0.15);\n",
              "      fill: #174EA6;\n",
              "    }\n",
              "\n",
              "    .colab-df-buttons div {\n",
              "      margin-bottom: 4px;\n",
              "    }\n",
              "\n",
              "    [theme=dark] .colab-df-convert {\n",
              "      background-color: #3B4455;\n",
              "      fill: #D2E3FC;\n",
              "    }\n",
              "\n",
              "    [theme=dark] .colab-df-convert:hover {\n",
              "      background-color: #434B5C;\n",
              "      box-shadow: 0px 1px 3px 1px rgba(0, 0, 0, 0.15);\n",
              "      filter: drop-shadow(0px 1px 2px rgba(0, 0, 0, 0.3));\n",
              "      fill: #FFFFFF;\n",
              "    }\n",
              "  </style>\n",
              "\n",
              "    <script>\n",
              "      const buttonEl =\n",
              "        document.querySelector('#df-4984121a-d103-4a1b-ac4f-68b04b93606e button.colab-df-convert');\n",
              "      buttonEl.style.display =\n",
              "        google.colab.kernel.accessAllowed ? 'block' : 'none';\n",
              "\n",
              "      async function convertToInteractive(key) {\n",
              "        const element = document.querySelector('#df-4984121a-d103-4a1b-ac4f-68b04b93606e');\n",
              "        const dataTable =\n",
              "          await google.colab.kernel.invokeFunction('convertToInteractive',\n",
              "                                                    [key], {});\n",
              "        if (!dataTable) return;\n",
              "\n",
              "        const docLinkHtml = 'Like what you see? Visit the ' +\n",
              "          '<a target=\"_blank\" href=https://colab.research.google.com/notebooks/data_table.ipynb>data table notebook</a>'\n",
              "          + ' to learn more about interactive tables.';\n",
              "        element.innerHTML = '';\n",
              "        dataTable['output_type'] = 'display_data';\n",
              "        await google.colab.output.renderOutput(dataTable, element);\n",
              "        const docLink = document.createElement('div');\n",
              "        docLink.innerHTML = docLinkHtml;\n",
              "        element.appendChild(docLink);\n",
              "      }\n",
              "    </script>\n",
              "  </div>\n",
              "\n",
              "\n",
              "<div id=\"df-49cf9e9f-90c8-4ef8-b2f3-975d80b86a07\">\n",
              "  <button class=\"colab-df-quickchart\" onclick=\"quickchart('df-49cf9e9f-90c8-4ef8-b2f3-975d80b86a07')\"\n",
              "            title=\"Suggest charts\"\n",
              "            style=\"display:none;\">\n",
              "\n",
              "<svg xmlns=\"http://www.w3.org/2000/svg\" height=\"24px\"viewBox=\"0 0 24 24\"\n",
              "     width=\"24px\">\n",
              "    <g>\n",
              "        <path d=\"M19 3H5c-1.1 0-2 .9-2 2v14c0 1.1.9 2 2 2h14c1.1 0 2-.9 2-2V5c0-1.1-.9-2-2-2zM9 17H7v-7h2v7zm4 0h-2V7h2v10zm4 0h-2v-4h2v4z\"/>\n",
              "    </g>\n",
              "</svg>\n",
              "  </button>\n",
              "\n",
              "<style>\n",
              "  .colab-df-quickchart {\n",
              "      --bg-color: #E8F0FE;\n",
              "      --fill-color: #1967D2;\n",
              "      --hover-bg-color: #E2EBFA;\n",
              "      --hover-fill-color: #174EA6;\n",
              "      --disabled-fill-color: #AAA;\n",
              "      --disabled-bg-color: #DDD;\n",
              "  }\n",
              "\n",
              "  [theme=dark] .colab-df-quickchart {\n",
              "      --bg-color: #3B4455;\n",
              "      --fill-color: #D2E3FC;\n",
              "      --hover-bg-color: #434B5C;\n",
              "      --hover-fill-color: #FFFFFF;\n",
              "      --disabled-bg-color: #3B4455;\n",
              "      --disabled-fill-color: #666;\n",
              "  }\n",
              "\n",
              "  .colab-df-quickchart {\n",
              "    background-color: var(--bg-color);\n",
              "    border: none;\n",
              "    border-radius: 50%;\n",
              "    cursor: pointer;\n",
              "    display: none;\n",
              "    fill: var(--fill-color);\n",
              "    height: 32px;\n",
              "    padding: 0;\n",
              "    width: 32px;\n",
              "  }\n",
              "\n",
              "  .colab-df-quickchart:hover {\n",
              "    background-color: var(--hover-bg-color);\n",
              "    box-shadow: 0 1px 2px rgba(60, 64, 67, 0.3), 0 1px 3px 1px rgba(60, 64, 67, 0.15);\n",
              "    fill: var(--button-hover-fill-color);\n",
              "  }\n",
              "\n",
              "  .colab-df-quickchart-complete:disabled,\n",
              "  .colab-df-quickchart-complete:disabled:hover {\n",
              "    background-color: var(--disabled-bg-color);\n",
              "    fill: var(--disabled-fill-color);\n",
              "    box-shadow: none;\n",
              "  }\n",
              "\n",
              "  .colab-df-spinner {\n",
              "    border: 2px solid var(--fill-color);\n",
              "    border-color: transparent;\n",
              "    border-bottom-color: var(--fill-color);\n",
              "    animation:\n",
              "      spin 1s steps(1) infinite;\n",
              "  }\n",
              "\n",
              "  @keyframes spin {\n",
              "    0% {\n",
              "      border-color: transparent;\n",
              "      border-bottom-color: var(--fill-color);\n",
              "      border-left-color: var(--fill-color);\n",
              "    }\n",
              "    20% {\n",
              "      border-color: transparent;\n",
              "      border-left-color: var(--fill-color);\n",
              "      border-top-color: var(--fill-color);\n",
              "    }\n",
              "    30% {\n",
              "      border-color: transparent;\n",
              "      border-left-color: var(--fill-color);\n",
              "      border-top-color: var(--fill-color);\n",
              "      border-right-color: var(--fill-color);\n",
              "    }\n",
              "    40% {\n",
              "      border-color: transparent;\n",
              "      border-right-color: var(--fill-color);\n",
              "      border-top-color: var(--fill-color);\n",
              "    }\n",
              "    60% {\n",
              "      border-color: transparent;\n",
              "      border-right-color: var(--fill-color);\n",
              "    }\n",
              "    80% {\n",
              "      border-color: transparent;\n",
              "      border-right-color: var(--fill-color);\n",
              "      border-bottom-color: var(--fill-color);\n",
              "    }\n",
              "    90% {\n",
              "      border-color: transparent;\n",
              "      border-bottom-color: var(--fill-color);\n",
              "    }\n",
              "  }\n",
              "</style>\n",
              "\n",
              "  <script>\n",
              "    async function quickchart(key) {\n",
              "      const quickchartButtonEl =\n",
              "        document.querySelector('#' + key + ' button');\n",
              "      quickchartButtonEl.disabled = true;  // To prevent multiple clicks.\n",
              "      quickchartButtonEl.classList.add('colab-df-spinner');\n",
              "      try {\n",
              "        const charts = await google.colab.kernel.invokeFunction(\n",
              "            'suggestCharts', [key], {});\n",
              "      } catch (error) {\n",
              "        console.error('Error during call to suggestCharts:', error);\n",
              "      }\n",
              "      quickchartButtonEl.classList.remove('colab-df-spinner');\n",
              "      quickchartButtonEl.classList.add('colab-df-quickchart-complete');\n",
              "    }\n",
              "    (() => {\n",
              "      let quickchartButtonEl =\n",
              "        document.querySelector('#df-49cf9e9f-90c8-4ef8-b2f3-975d80b86a07 button');\n",
              "      quickchartButtonEl.style.display =\n",
              "        google.colab.kernel.accessAllowed ? 'block' : 'none';\n",
              "    })();\n",
              "  </script>\n",
              "</div>\n",
              "\n",
              "    </div>\n",
              "  </div>\n"
            ],
            "application/vnd.google.colaboratory.intrinsic+json": {
              "type": "dataframe"
            }
          },
          "metadata": {},
          "execution_count": 11
        }
      ]
    },
    {
      "cell_type": "code",
      "execution_count": null,
      "metadata": {
        "id": "7zZsLnCtlp_F"
      },
      "outputs": [],
      "source": [
        "df.dropna(how=\"any\" , inplace=True)"
      ]
    },
    {
      "cell_type": "code",
      "execution_count": null,
      "metadata": {
        "id": "ZeIqj9ZVl1mZ"
      },
      "outputs": [],
      "source": [
        "labels = df[64].unique()"
      ]
    },
    {
      "cell_type": "code",
      "execution_count": null,
      "metadata": {
        "colab": {
          "base_uri": "https://localhost:8080/"
        },
        "id": "ZZx6M0fZl8Cq",
        "outputId": "6f9cee0a-25fb-488a-e666-962a364ac782"
      },
      "outputs": [
        {
          "output_type": "execute_result",
          "data": {
            "text/plain": [
              "array(['z_palm_facing_in_pull', 'z_palm_facing_in_pull_left',\n",
              "       'zoom_out_right', 'zoom_out_left', 'pointer_up_right',\n",
              "       'pointer_left_right', 'pointer_left_right_is_actually_up_left',\n",
              "       'pointer_down_right', 'pointer_down_left', 'pointer_goleft_right',\n",
              "       'pointer_goright_right', 'pointer_goright_left',\n",
              "       'pointer_goleft_left', 'two_fingers_right', 'two_fingers_left',\n",
              "       'fist_right', 'fist_left', 'palm_left', 'palm_right', 'zoom_in',\n",
              "       'zoom_in_left', 'thumbs_up_right', 'thumbs_up_left'], dtype=object)"
            ]
          },
          "metadata": {},
          "execution_count": 13
        }
      ],
      "source": [
        "labels"
      ]
    },
    {
      "cell_type": "code",
      "execution_count": null,
      "metadata": {
        "id": "aAGjdXSnnCT1"
      },
      "outputs": [],
      "source": [
        "df.loc[df[64] == 'pointer_left_right_is_actually_up_left', 64] = 'pointer_up_left'"
      ]
    },
    {
      "cell_type": "code",
      "execution_count": null,
      "metadata": {
        "id": "v-QHLFVlnG_x"
      },
      "outputs": [],
      "source": [
        "df.loc[df[64] == 'pointer_left_right', 64] = 'pointer_up_left'"
      ]
    },
    {
      "cell_type": "code",
      "source": [
        "df.loc[df[64] == 'zoom_in', 64] = 'zoom_in_right'"
      ],
      "metadata": {
        "id": "GzH4-Qi2TGkd"
      },
      "execution_count": null,
      "outputs": []
    },
    {
      "cell_type": "code",
      "execution_count": null,
      "metadata": {
        "id": "7pK4CHa-lwml"
      },
      "outputs": [],
      "source": [
        "labels = df[64].unique()"
      ]
    },
    {
      "cell_type": "code",
      "source": [
        "labels"
      ],
      "metadata": {
        "colab": {
          "base_uri": "https://localhost:8080/"
        },
        "id": "joAi_H3cZ53L",
        "outputId": "5de348ff-5649-4bf6-e200-aae7a2ec1b6a"
      },
      "execution_count": null,
      "outputs": [
        {
          "output_type": "execute_result",
          "data": {
            "text/plain": [
              "array(['z_palm_facing_in_pull', 'z_palm_facing_in_pull_left',\n",
              "       'zoom_out_right', 'zoom_out_left', 'pointer_up_right',\n",
              "       'pointer_up_left', 'pointer_down_right', 'pointer_down_left',\n",
              "       'pointer_goleft_right', 'pointer_goright_right',\n",
              "       'pointer_goright_left', 'pointer_goleft_left', 'two_fingers_right',\n",
              "       'two_fingers_left', 'fist_right', 'fist_left', 'palm_left',\n",
              "       'palm_right', 'zoom_in_right', 'zoom_in_left', 'thumbs_up_right',\n",
              "       'thumbs_up_left'], dtype=object)"
            ]
          },
          "metadata": {},
          "execution_count": 16
        }
      ]
    },
    {
      "cell_type": "code",
      "execution_count": null,
      "metadata": {
        "id": "p3-6ifXplKUG"
      },
      "outputs": [],
      "source": [
        "NUM_CLASSES = len(labels)"
      ]
    },
    {
      "cell_type": "code",
      "source": [
        "df[64].value_counts()\n"
      ],
      "metadata": {
        "colab": {
          "base_uri": "https://localhost:8080/",
          "height": 805
        },
        "id": "HP5TmxJCWxlc",
        "outputId": "003a1a48-e2ca-4044-a108-cc63de39e3d4"
      },
      "execution_count": null,
      "outputs": [
        {
          "output_type": "execute_result",
          "data": {
            "text/plain": [
              "64\n",
              "pointer_down_right            11301\n",
              "palm_right                    10214\n",
              "two_fingers_right              9554\n",
              "fist_right                     9118\n",
              "pointer_goleft_left            6770\n",
              "fist_left                      6551\n",
              "palm_left                      6548\n",
              "z_palm_facing_in_pull          6522\n",
              "thumbs_up_left                 6479\n",
              "zoom_in_right                  6069\n",
              "pointer_goright_left           5936\n",
              "zoom_in_left                   5742\n",
              "pointer_down_left              5732\n",
              "pointer_goleft_right           5711\n",
              "thumbs_up_right                5597\n",
              "zoom_out_left                  5532\n",
              "pointer_goright_right          5459\n",
              "z_palm_facing_in_pull_left     5196\n",
              "two_fingers_left               4709\n",
              "zoom_out_right                 4628\n",
              "pointer_up_left                4604\n",
              "pointer_up_right               4099\n",
              "Name: count, dtype: int64"
            ],
            "text/html": [
              "<div>\n",
              "<style scoped>\n",
              "    .dataframe tbody tr th:only-of-type {\n",
              "        vertical-align: middle;\n",
              "    }\n",
              "\n",
              "    .dataframe tbody tr th {\n",
              "        vertical-align: top;\n",
              "    }\n",
              "\n",
              "    .dataframe thead th {\n",
              "        text-align: right;\n",
              "    }\n",
              "</style>\n",
              "<table border=\"1\" class=\"dataframe\">\n",
              "  <thead>\n",
              "    <tr style=\"text-align: right;\">\n",
              "      <th></th>\n",
              "      <th>count</th>\n",
              "    </tr>\n",
              "    <tr>\n",
              "      <th>64</th>\n",
              "      <th></th>\n",
              "    </tr>\n",
              "  </thead>\n",
              "  <tbody>\n",
              "    <tr>\n",
              "      <th>pointer_down_right</th>\n",
              "      <td>11301</td>\n",
              "    </tr>\n",
              "    <tr>\n",
              "      <th>palm_right</th>\n",
              "      <td>10214</td>\n",
              "    </tr>\n",
              "    <tr>\n",
              "      <th>two_fingers_right</th>\n",
              "      <td>9554</td>\n",
              "    </tr>\n",
              "    <tr>\n",
              "      <th>fist_right</th>\n",
              "      <td>9118</td>\n",
              "    </tr>\n",
              "    <tr>\n",
              "      <th>pointer_goleft_left</th>\n",
              "      <td>6770</td>\n",
              "    </tr>\n",
              "    <tr>\n",
              "      <th>fist_left</th>\n",
              "      <td>6551</td>\n",
              "    </tr>\n",
              "    <tr>\n",
              "      <th>palm_left</th>\n",
              "      <td>6548</td>\n",
              "    </tr>\n",
              "    <tr>\n",
              "      <th>z_palm_facing_in_pull</th>\n",
              "      <td>6522</td>\n",
              "    </tr>\n",
              "    <tr>\n",
              "      <th>thumbs_up_left</th>\n",
              "      <td>6479</td>\n",
              "    </tr>\n",
              "    <tr>\n",
              "      <th>zoom_in_right</th>\n",
              "      <td>6069</td>\n",
              "    </tr>\n",
              "    <tr>\n",
              "      <th>pointer_goright_left</th>\n",
              "      <td>5936</td>\n",
              "    </tr>\n",
              "    <tr>\n",
              "      <th>zoom_in_left</th>\n",
              "      <td>5742</td>\n",
              "    </tr>\n",
              "    <tr>\n",
              "      <th>pointer_down_left</th>\n",
              "      <td>5732</td>\n",
              "    </tr>\n",
              "    <tr>\n",
              "      <th>pointer_goleft_right</th>\n",
              "      <td>5711</td>\n",
              "    </tr>\n",
              "    <tr>\n",
              "      <th>thumbs_up_right</th>\n",
              "      <td>5597</td>\n",
              "    </tr>\n",
              "    <tr>\n",
              "      <th>zoom_out_left</th>\n",
              "      <td>5532</td>\n",
              "    </tr>\n",
              "    <tr>\n",
              "      <th>pointer_goright_right</th>\n",
              "      <td>5459</td>\n",
              "    </tr>\n",
              "    <tr>\n",
              "      <th>z_palm_facing_in_pull_left</th>\n",
              "      <td>5196</td>\n",
              "    </tr>\n",
              "    <tr>\n",
              "      <th>two_fingers_left</th>\n",
              "      <td>4709</td>\n",
              "    </tr>\n",
              "    <tr>\n",
              "      <th>zoom_out_right</th>\n",
              "      <td>4628</td>\n",
              "    </tr>\n",
              "    <tr>\n",
              "      <th>pointer_up_left</th>\n",
              "      <td>4604</td>\n",
              "    </tr>\n",
              "    <tr>\n",
              "      <th>pointer_up_right</th>\n",
              "      <td>4099</td>\n",
              "    </tr>\n",
              "  </tbody>\n",
              "</table>\n",
              "</div><br><label><b>dtype:</b> int64</label>"
            ]
          },
          "metadata": {},
          "execution_count": 18
        }
      ]
    },
    {
      "cell_type": "code",
      "source": [
        "optimizer   ='adam'\n",
        "loss        ='sparse_categorical_crossentropy'\n",
        "metrics     =['accuracy']\n",
        "batch_size  = 32000\n",
        "epochs      = 1000\n",
        "patience    = 40\n",
        "early_stopping_metric = 'val_loss'\n",
        "\n",
        "\n",
        "es_callback = tf.keras.callbacks.EarlyStopping(monitor=early_stopping_metric, patience=patience, verbose=1)\n",
        "\n",
        "params = {\"random_seed\"       : RANDOM_SEED,\n",
        "          \"optimizer\"         : f\"{optimizer}\" ,\n",
        "          \"loss_fn\"           : f\"{loss}\" ,\n",
        "          \"patience\"          : patience,\n",
        "          \"epochs\"            : epochs,\n",
        "          \"batch_size\"        : batch_size,\n",
        "          \"optimizer\"         : optimizer,\n",
        "          \"resampling_method\" : \"over\",\n",
        "          \"early_stopping_metric\" : early_stopping_metric\n",
        "          }\n",
        "\n",
        "\n",
        "\n",
        "batch_size"
      ],
      "metadata": {
        "colab": {
          "base_uri": "https://localhost:8080/"
        },
        "id": "SbUWw9eutaPo",
        "outputId": "9416df95-a82a-4549-a6ef-8750666d1fe4"
      },
      "execution_count": null,
      "outputs": [
        {
          "output_type": "execute_result",
          "data": {
            "text/plain": [
              "32000"
            ]
          },
          "metadata": {},
          "execution_count": 19
        }
      ]
    },
    {
      "cell_type": "code",
      "execution_count": null,
      "metadata": {
        "id": "JkpC8Z1_oqMc",
        "colab": {
          "base_uri": "https://localhost:8080/"
        },
        "outputId": "fd219af2-c376-4451-cef7-bee4d2fd4594"
      },
      "outputs": [
        {
          "output_type": "stream",
          "name": "stdout",
          "text": [
            "Resmapling method : over\n"
          ]
        }
      ],
      "source": [
        "resampling_method =  params['resampling_method']\n",
        "\n",
        "\n",
        "if resampling_method is not None:\n",
        "  if resampling_method == 'over':\n",
        "    resampling_txt = '_oversampling'\n",
        "  elif resampling_method == 'under':\n",
        "    resampling_txt = '_undersampling'\n",
        "  elif resampling_method == 'both':\n",
        "    resampling_txt = '_over_under_sample'\n",
        "  else:\n",
        "    resampling_txt = ''\n",
        "else:\n",
        "  resampling_txt = ''\n",
        "\n",
        "print(f\"Resmapling method : {resampling_method}\")"
      ]
    },
    {
      "cell_type": "code",
      "execution_count": null,
      "metadata": {
        "id": "BSjOp1Mknwao"
      },
      "outputs": [],
      "source": [
        "df[0] = [np.argwhere(labels == x)[0][0] for x in df[64]]"
      ]
    },
    {
      "cell_type": "code",
      "execution_count": null,
      "metadata": {
        "id": "3wqdtl9_lKUH"
      },
      "outputs": [],
      "source": [
        "X_dataset = df.loc[:, 1:63]\n"
      ]
    },
    {
      "cell_type": "code",
      "execution_count": null,
      "metadata": {
        "id": "u3fCyrfClKUI"
      },
      "outputs": [],
      "source": [
        "y_dataset = df.loc[:, 0]\n",
        "y_dataset = y_dataset.astype('int32')\n"
      ]
    },
    {
      "cell_type": "code",
      "source": [
        "X_train, X_test, y_train, y_test = train_test_split(X_dataset, y_dataset, train_size=0.75, random_state=RANDOM_SEED)\n",
        "\n",
        "if resampling_method in  ('over' , 'both'):\n",
        "  from imblearn.over_sampling import SMOTE, ADASYN\n",
        "  print('oversampling')\n",
        "  X_train, y_train = SMOTE().fit_resample(X_train, y_train)\n",
        "\n",
        "\n",
        "if resampling_method in ('under', 'both'):\n",
        "  from imblearn.under_sampling import NearMiss\n",
        "  nm1 = NearMiss(version=1)\n",
        "  print('undersampling')\n",
        "  X_train, y_train = nm1.fit_resample(X_train, y_train)\n",
        "\n"
      ],
      "metadata": {
        "id": "1gm_TNwIXq9o",
        "colab": {
          "base_uri": "https://localhost:8080/"
        },
        "outputId": "bc1b6225-a322-4eb3-d518-767eec912208"
      },
      "execution_count": null,
      "outputs": [
        {
          "output_type": "stream",
          "name": "stdout",
          "text": [
            "oversampling\n"
          ]
        }
      ]
    },
    {
      "cell_type": "code",
      "source": [],
      "metadata": {
        "id": "z4GLOiMsbJLK"
      },
      "execution_count": null,
      "outputs": []
    },
    {
      "cell_type": "code",
      "source": [
        "model = tf.keras.models.Sequential([\n",
        "        tf.keras.layers.Input((63, )),\n",
        "        tf.keras.layers.Dropout(0.2),\n",
        "        tf.keras.layers.Dense(1400, activation='relu'),\n",
        "        tf.keras.layers.Dropout(0.4),\n",
        "        tf.keras.layers.Dense(700, activation='relu'),\n",
        "        tf.keras.layers.Dense(60, activation='relu'),\n",
        "        tf.keras.layers.Dense(NUM_CLASSES, activation='softmax')\n",
        "])"
      ],
      "metadata": {
        "id": "bNzi8q1Ov6JS"
      },
      "execution_count": 48,
      "outputs": []
    },
    {
      "cell_type": "code",
      "source": [
        "model.summary()"
      ],
      "metadata": {
        "colab": {
          "base_uri": "https://localhost:8080/",
          "height": 321
        },
        "id": "8orG0jmfzAU7",
        "outputId": "734b3369-acde-4f55-8b28-7c3fbf3cec15"
      },
      "execution_count": 49,
      "outputs": [
        {
          "output_type": "display_data",
          "data": {
            "text/plain": [
              "\u001b[1mModel: \"sequential_1\"\u001b[0m\n"
            ],
            "text/html": [
              "<pre style=\"white-space:pre;overflow-x:auto;line-height:normal;font-family:Menlo,'DejaVu Sans Mono',consolas,'Courier New',monospace\"><span style=\"font-weight: bold\">Model: \"sequential_1\"</span>\n",
              "</pre>\n"
            ]
          },
          "metadata": {}
        },
        {
          "output_type": "display_data",
          "data": {
            "text/plain": [
              "┏━━━━━━━━━━━━━━━━━━━━━━━━━━━━━━━━━━━━━━┳━━━━━━━━━━━━━━━━━━━━━━━━━━━━━┳━━━━━━━━━━━━━━━━━┓\n",
              "┃\u001b[1m \u001b[0m\u001b[1mLayer (type)                        \u001b[0m\u001b[1m \u001b[0m┃\u001b[1m \u001b[0m\u001b[1mOutput Shape               \u001b[0m\u001b[1m \u001b[0m┃\u001b[1m \u001b[0m\u001b[1m        Param #\u001b[0m\u001b[1m \u001b[0m┃\n",
              "┡━━━━━━━━━━━━━━━━━━━━━━━━━━━━━━━━━━━━━━╇━━━━━━━━━━━━━━━━━━━━━━━━━━━━━╇━━━━━━━━━━━━━━━━━┩\n",
              "│ dropout_2 (\u001b[38;5;33mDropout\u001b[0m)                  │ (\u001b[38;5;45mNone\u001b[0m, \u001b[38;5;34m63\u001b[0m)                  │               \u001b[38;5;34m0\u001b[0m │\n",
              "├──────────────────────────────────────┼─────────────────────────────┼─────────────────┤\n",
              "│ dense_4 (\u001b[38;5;33mDense\u001b[0m)                      │ (\u001b[38;5;45mNone\u001b[0m, \u001b[38;5;34m1400\u001b[0m)                │          \u001b[38;5;34m89,600\u001b[0m │\n",
              "├──────────────────────────────────────┼─────────────────────────────┼─────────────────┤\n",
              "│ dropout_3 (\u001b[38;5;33mDropout\u001b[0m)                  │ (\u001b[38;5;45mNone\u001b[0m, \u001b[38;5;34m1400\u001b[0m)                │               \u001b[38;5;34m0\u001b[0m │\n",
              "├──────────────────────────────────────┼─────────────────────────────┼─────────────────┤\n",
              "│ dense_5 (\u001b[38;5;33mDense\u001b[0m)                      │ (\u001b[38;5;45mNone\u001b[0m, \u001b[38;5;34m700\u001b[0m)                 │         \u001b[38;5;34m980,700\u001b[0m │\n",
              "├──────────────────────────────────────┼─────────────────────────────┼─────────────────┤\n",
              "│ dense_6 (\u001b[38;5;33mDense\u001b[0m)                      │ (\u001b[38;5;45mNone\u001b[0m, \u001b[38;5;34m60\u001b[0m)                  │          \u001b[38;5;34m42,060\u001b[0m │\n",
              "├──────────────────────────────────────┼─────────────────────────────┼─────────────────┤\n",
              "│ dense_7 (\u001b[38;5;33mDense\u001b[0m)                      │ (\u001b[38;5;45mNone\u001b[0m, \u001b[38;5;34m22\u001b[0m)                  │           \u001b[38;5;34m1,342\u001b[0m │\n",
              "└──────────────────────────────────────┴─────────────────────────────┴─────────────────┘\n"
            ],
            "text/html": [
              "<pre style=\"white-space:pre;overflow-x:auto;line-height:normal;font-family:Menlo,'DejaVu Sans Mono',consolas,'Courier New',monospace\">┏━━━━━━━━━━━━━━━━━━━━━━━━━━━━━━━━━━━━━━┳━━━━━━━━━━━━━━━━━━━━━━━━━━━━━┳━━━━━━━━━━━━━━━━━┓\n",
              "┃<span style=\"font-weight: bold\"> Layer (type)                         </span>┃<span style=\"font-weight: bold\"> Output Shape                </span>┃<span style=\"font-weight: bold\">         Param # </span>┃\n",
              "┡━━━━━━━━━━━━━━━━━━━━━━━━━━━━━━━━━━━━━━╇━━━━━━━━━━━━━━━━━━━━━━━━━━━━━╇━━━━━━━━━━━━━━━━━┩\n",
              "│ dropout_2 (<span style=\"color: #0087ff; text-decoration-color: #0087ff\">Dropout</span>)                  │ (<span style=\"color: #00d7ff; text-decoration-color: #00d7ff\">None</span>, <span style=\"color: #00af00; text-decoration-color: #00af00\">63</span>)                  │               <span style=\"color: #00af00; text-decoration-color: #00af00\">0</span> │\n",
              "├──────────────────────────────────────┼─────────────────────────────┼─────────────────┤\n",
              "│ dense_4 (<span style=\"color: #0087ff; text-decoration-color: #0087ff\">Dense</span>)                      │ (<span style=\"color: #00d7ff; text-decoration-color: #00d7ff\">None</span>, <span style=\"color: #00af00; text-decoration-color: #00af00\">1400</span>)                │          <span style=\"color: #00af00; text-decoration-color: #00af00\">89,600</span> │\n",
              "├──────────────────────────────────────┼─────────────────────────────┼─────────────────┤\n",
              "│ dropout_3 (<span style=\"color: #0087ff; text-decoration-color: #0087ff\">Dropout</span>)                  │ (<span style=\"color: #00d7ff; text-decoration-color: #00d7ff\">None</span>, <span style=\"color: #00af00; text-decoration-color: #00af00\">1400</span>)                │               <span style=\"color: #00af00; text-decoration-color: #00af00\">0</span> │\n",
              "├──────────────────────────────────────┼─────────────────────────────┼─────────────────┤\n",
              "│ dense_5 (<span style=\"color: #0087ff; text-decoration-color: #0087ff\">Dense</span>)                      │ (<span style=\"color: #00d7ff; text-decoration-color: #00d7ff\">None</span>, <span style=\"color: #00af00; text-decoration-color: #00af00\">700</span>)                 │         <span style=\"color: #00af00; text-decoration-color: #00af00\">980,700</span> │\n",
              "├──────────────────────────────────────┼─────────────────────────────┼─────────────────┤\n",
              "│ dense_6 (<span style=\"color: #0087ff; text-decoration-color: #0087ff\">Dense</span>)                      │ (<span style=\"color: #00d7ff; text-decoration-color: #00d7ff\">None</span>, <span style=\"color: #00af00; text-decoration-color: #00af00\">60</span>)                  │          <span style=\"color: #00af00; text-decoration-color: #00af00\">42,060</span> │\n",
              "├──────────────────────────────────────┼─────────────────────────────┼─────────────────┤\n",
              "│ dense_7 (<span style=\"color: #0087ff; text-decoration-color: #0087ff\">Dense</span>)                      │ (<span style=\"color: #00d7ff; text-decoration-color: #00d7ff\">None</span>, <span style=\"color: #00af00; text-decoration-color: #00af00\">22</span>)                  │           <span style=\"color: #00af00; text-decoration-color: #00af00\">1,342</span> │\n",
              "└──────────────────────────────────────┴─────────────────────────────┴─────────────────┘\n",
              "</pre>\n"
            ]
          },
          "metadata": {}
        },
        {
          "output_type": "display_data",
          "data": {
            "text/plain": [
              "\u001b[1m Total params: \u001b[0m\u001b[38;5;34m1,113,702\u001b[0m (4.25 MB)\n"
            ],
            "text/html": [
              "<pre style=\"white-space:pre;overflow-x:auto;line-height:normal;font-family:Menlo,'DejaVu Sans Mono',consolas,'Courier New',monospace\"><span style=\"font-weight: bold\"> Total params: </span><span style=\"color: #00af00; text-decoration-color: #00af00\">1,113,702</span> (4.25 MB)\n",
              "</pre>\n"
            ]
          },
          "metadata": {}
        },
        {
          "output_type": "display_data",
          "data": {
            "text/plain": [
              "\u001b[1m Trainable params: \u001b[0m\u001b[38;5;34m1,113,702\u001b[0m (4.25 MB)\n"
            ],
            "text/html": [
              "<pre style=\"white-space:pre;overflow-x:auto;line-height:normal;font-family:Menlo,'DejaVu Sans Mono',consolas,'Courier New',monospace\"><span style=\"font-weight: bold\"> Trainable params: </span><span style=\"color: #00af00; text-decoration-color: #00af00\">1,113,702</span> (4.25 MB)\n",
              "</pre>\n"
            ]
          },
          "metadata": {}
        },
        {
          "output_type": "display_data",
          "data": {
            "text/plain": [
              "\u001b[1m Non-trainable params: \u001b[0m\u001b[38;5;34m0\u001b[0m (0.00 B)\n"
            ],
            "text/html": [
              "<pre style=\"white-space:pre;overflow-x:auto;line-height:normal;font-family:Menlo,'DejaVu Sans Mono',consolas,'Courier New',monospace\"><span style=\"font-weight: bold\"> Non-trainable params: </span><span style=\"color: #00af00; text-decoration-color: #00af00\">0</span> (0.00 B)\n",
              "</pre>\n"
            ]
          },
          "metadata": {}
        }
      ]
    },
    {
      "cell_type": "code",
      "source": [
        "model.compile(\n",
        "    optimizer= params['optimizer'],\n",
        "    loss     = params['loss_fn'],\n",
        "    metrics  = metrics\n",
        ")"
      ],
      "metadata": {
        "id": "URsKSN0kzAhs"
      },
      "execution_count": null,
      "outputs": []
    },
    {
      "cell_type": "code",
      "source": [
        "params"
      ],
      "metadata": {
        "colab": {
          "base_uri": "https://localhost:8080/"
        },
        "id": "dKgmqeo16_NP",
        "outputId": "226b9ebd-236d-4169-a3ed-5790ad317c4c"
      },
      "execution_count": null,
      "outputs": [
        {
          "output_type": "execute_result",
          "data": {
            "text/plain": [
              "{'random_seed': 1000,\n",
              " 'optimizer': 'adam',\n",
              " 'loss_fn': 'sparse_categorical_crossentropy',\n",
              " 'patience': 40,\n",
              " 'epochs': 1000,\n",
              " 'batch_size': 32000,\n",
              " 'resampling_method': 'over',\n",
              " 'early_stopping_metric': 'val_loss'}"
            ]
          },
          "metadata": {},
          "execution_count": 30
        }
      ]
    },
    {
      "cell_type": "code",
      "source": [
        "X_train.to_numpy().shape, y_train.to_numpy().shape\n",
        "epochs\n",
        "batch_size\n",
        "X_test.to_numpy().shape, y_test.to_numpy().shape"
      ],
      "metadata": {
        "colab": {
          "base_uri": "https://localhost:8080/"
        },
        "id": "VWQFr-GG7x_H",
        "outputId": "a1c22dba-64a3-47c5-d021-5211d317e87d"
      },
      "execution_count": null,
      "outputs": [
        {
          "output_type": "execute_result",
          "data": {
            "text/plain": [
              "((35518, 63), (35518,))"
            ]
          },
          "metadata": {},
          "execution_count": 31
        }
      ]
    },
    {
      "cell_type": "code",
      "source": [
        "if TRAIN:\n",
        "    mlflow.tensorflow.autolog(checkpoint=True, checkpoint_save_best_only=False)\n",
        "\n",
        "    with mlflow.start_run() as run:\n",
        "        mlflow.log_params(params)\n",
        "            # Train the model\n",
        "        history = model.fit(X_train.to_numpy(),\n",
        "                            y_train.to_numpy(),\n",
        "                            epochs=epochs,\n",
        "                            batch_size=batch_size,\n",
        "                            validation_data=(X_test.to_numpy(), y_test.to_numpy()) ,\n",
        "                            callbacks=[es_callback]\n",
        "                          )\n",
        "\n",
        "        # Log metrics\n",
        "        for epoch in range(len(history.history['loss'])):\n",
        "            mlflow.log_metric(\"loss\", history.history['loss'][epoch], step=epoch)\n",
        "            mlflow.log_metric(\"val_loss\", history.history['val_loss'][epoch], step=epoch)\n",
        "            mlflow.log_metric(\"acc\", history.history['accuracy'][epoch], step=epoch)\n",
        "            mlflow.log_metric(\"val_acc\", history.history['val_accuracy'][epoch], step=epoch)\n",
        "\n",
        "        # Log the model\n",
        "        mlflow.tensorflow.log_model(model, \"model\")"
      ],
      "metadata": {
        "id": "dIpEFOMJzAmS"
      },
      "execution_count": null,
      "outputs": []
    },
    {
      "cell_type": "code",
      "source": [
        "experiment = mlflow.get_experiment_by_name(\"/gesture-classification\")"
      ],
      "metadata": {
        "id": "if8rpawy4WSH"
      },
      "execution_count": null,
      "outputs": []
    },
    {
      "cell_type": "code",
      "source": [
        "experiment"
      ],
      "metadata": {
        "colab": {
          "base_uri": "https://localhost:8080/"
        },
        "id": "CFvLFXpb8XIi",
        "outputId": "2bb023d2-c648-4b72-fe0c-11fa980c6789"
      },
      "execution_count": null,
      "outputs": [
        {
          "output_type": "execute_result",
          "data": {
            "text/plain": [
              "<Experiment: artifact_location='//content/drive/MyDrive/HES/ASSIGNMENTS/GCAI/mlflow/TFMODELS/content/mlruns/398191148141779413', creation_time=1732393654486, experiment_id='398191148141779413', last_update_time=1732393654486, lifecycle_stage='active', name='/gesture-classification', tags={}>"
            ]
          },
          "metadata": {},
          "execution_count": 27
        }
      ]
    },
    {
      "cell_type": "code",
      "source": [
        "##Best Model\n",
        "model_uri = '/content/drive/MyDrive/HES/ASSIGNMENTS/GCAI/mlflow/TFMODELS/content/mlruns/398191148141779413/fb93bbb6f41a48829cfc0c8eeb9e811a/artifacts/checkpoints/epoch_3/checkpoint.h5'"
      ],
      "metadata": {
        "id": "n1lsaiOv1GFC"
      },
      "execution_count": null,
      "outputs": []
    },
    {
      "cell_type": "code",
      "source": [
        "from tensorflow.keras.models import load_model\n",
        "\n",
        "loaded_model = load_model(model_uri)"
      ],
      "metadata": {
        "colab": {
          "base_uri": "https://localhost:8080/"
        },
        "id": "DcerYD3wxWxe",
        "outputId": "4b31df03-f0f5-4d2f-9792-21ec013546e3"
      },
      "execution_count": null,
      "outputs": [
        {
          "output_type": "stream",
          "name": "stderr",
          "text": [
            "WARNING:absl:Compiled the loaded model, but the compiled metrics have yet to be built. `model.compile_metrics` will be empty until you train or evaluate the model.\n"
          ]
        }
      ]
    },
    {
      "cell_type": "code",
      "source": [
        "val_loss, val_acc = loaded_model.evaluate(X_test, y_test, batch_size=32000)"
      ],
      "metadata": {
        "id": "xRqi_Zh56o-f",
        "colab": {
          "base_uri": "https://localhost:8080/"
        },
        "outputId": "40f707e8-4d70-404a-a69c-82f11060adb9"
      },
      "execution_count": null,
      "outputs": [
        {
          "output_type": "stream",
          "name": "stdout",
          "text": [
            "\u001b[1m2/2\u001b[0m \u001b[32m━━━━━━━━━━━━━━━━━━━━\u001b[0m\u001b[37m\u001b[0m \u001b[1m3s\u001b[0m 592ms/step - accuracy: 0.9797 - loss: 0.0834\n"
          ]
        }
      ]
    },
    {
      "cell_type": "markdown",
      "source": [
        "#Convert to TFLite"
      ],
      "metadata": {
        "id": "wCUS44AzKcBp"
      }
    },
    {
      "cell_type": "code",
      "source": [
        "now = datetime.now().strftime(\"%Y%m%d%H%M%S\")\n",
        "model_name = f'keypoint_classifier_{now}_{batch_size}'\n",
        "model_dir  = f'/content/drive/MyDrive/HES/ASSIGNMENTS/GCAI/GCAI_best/{model_name}{resampling_txt}'\n",
        "!mkdir {model_dir}\n",
        "model_save_path = f'{model_dir}/keypoint_classifier_{now}_{batch_size}.keras'\n",
        "model_save_path"
      ],
      "metadata": {
        "colab": {
          "base_uri": "https://localhost:8080/",
          "height": 36
        },
        "id": "O7YlXqXu-HWX",
        "outputId": "fd65f55f-caee-4508-e4f1-8ba2057637a6"
      },
      "execution_count": null,
      "outputs": [
        {
          "output_type": "execute_result",
          "data": {
            "text/plain": [
              "'/content/drive/MyDrive/HES/ASSIGNMENTS/GCAI/GCAI_best/keypoint_classifier_20241124191842_32000_oversampling/keypoint_classifier_20241124191842_32000.keras'"
            ],
            "application/vnd.google.colaboratory.intrinsic+json": {
              "type": "string"
            }
          },
          "metadata": {},
          "execution_count": 33
        }
      ]
    },
    {
      "cell_type": "code",
      "source": [
        "loaded_model.save(model_save_path, include_optimizer=False)"
      ],
      "metadata": {
        "id": "bEKunaE8-Cua"
      },
      "execution_count": null,
      "outputs": []
    },
    {
      "cell_type": "code",
      "source": [
        "\n",
        "class ConvertToTFLite:\n",
        "  def __init__(self,\n",
        "               X_test,\n",
        "               y_test,\n",
        "               tf_model=loaded_model,\n",
        "               model_path=model_save_path,\n",
        "               tflite_save_path = None):\n",
        "    self.X_test     = X_test\n",
        "    self.y_test     = y_test\n",
        "    self.y_pred     = None\n",
        "    self.tf_model   = tf_model\n",
        "    self.model_path = model_path\n",
        "    self.accuracy   = None\n",
        "    self.confusion_matrix      = None\n",
        "    self.classification_report = None\n",
        "    if tflite_save_path is None:\n",
        "        self.tflite_save_path      = f'{model_save_path.replace(\".keras\", \"\").replace(\".h5\", \"\")}.tflite'\n",
        "    else :\n",
        "        self.tflite_save_path = tflite_save_path\n",
        "  def convert(self ):\n",
        "      converter = tf.lite.TFLiteConverter.from_keras_model(self.tf_model)\n",
        "      converter.optimizations = [tf.lite.Optimize.DEFAULT]\n",
        "      tflite_quantized_model = converter.convert()\n",
        "      open(self.tflite_save_path, 'wb').write(tflite_quantized_model)\n",
        "\n",
        "  def eval(self):\n",
        "      interpreter = tf.lite.Interpreter(model_path=self.tflite_save_path)\n",
        "      interpreter.allocate_tensors()\n",
        "\n",
        "      input_details = interpreter.get_input_details()\n",
        "      output_details = interpreter.get_output_details()\n",
        "\n",
        "      interpreter.resize_tensor_input(input_details[0]['index'],[self.X_test.shape[0], self.X_test.shape[1]])\n",
        "      interpreter.allocate_tensors()\n",
        "      interpreter.set_tensor(input_details[0]['index'], self.X_test.to_numpy(dtype=np.float32))\n",
        "\n",
        "      interpreter.invoke()\n",
        "      tflite_results = interpreter.get_tensor(output_details[0]['index'])\n",
        "      print(\"\\n Eval Results \\n\")\n",
        "      print(np.squeeze(tflite_results))\n",
        "      self.y_pred = np.argmax(np.squeeze(tflite_results), axis=1)\n",
        "\n",
        "  def get_eval_results(self):\n",
        "      y_true = self.y_test\n",
        "      self.accuracy = accuracy_score(y_true, self.y_pred, normalize= True)\n",
        "      self.confusion_matrix = confusion_matrix(y_test, self.y_pred, labels=sorted(list(set(y_true))))\n",
        "      self.classification_report = classification_report(y_true, self.y_pred, target_names=None)\n"
      ],
      "metadata": {
        "id": "EEQp6Sz77Vn5"
      },
      "execution_count": null,
      "outputs": []
    },
    {
      "cell_type": "code",
      "source": [
        "tl_model = ConvertToTFLite(X_test, y_test, loaded_model, model_save_path)"
      ],
      "metadata": {
        "id": "XpO39XPgI7Rm"
      },
      "execution_count": null,
      "outputs": []
    },
    {
      "cell_type": "code",
      "source": [
        "tl_model.convert()"
      ],
      "metadata": {
        "colab": {
          "base_uri": "https://localhost:8080/"
        },
        "id": "Eatrz6NxJT8Q",
        "outputId": "c220a78a-eac0-4ea3-c489-07fd42bb4f14"
      },
      "execution_count": null,
      "outputs": [
        {
          "output_type": "stream",
          "name": "stdout",
          "text": [
            "Saved artifact at '/tmp/tmpkvxfutt_'. The following endpoints are available:\n",
            "\n",
            "* Endpoint 'serve'\n",
            "  args_0 (POSITIONAL_ONLY): TensorSpec(shape=(None, 63), dtype=tf.float32, name='input_layer')\n",
            "Output Type:\n",
            "  TensorSpec(shape=(None, 22), dtype=tf.float32, name=None)\n",
            "Captures:\n",
            "  139161632197968: TensorSpec(shape=(), dtype=tf.resource, name=None)\n",
            "  139161632703232: TensorSpec(shape=(), dtype=tf.resource, name=None)\n",
            "  139161630890592: TensorSpec(shape=(), dtype=tf.resource, name=None)\n",
            "  139161630890064: TensorSpec(shape=(), dtype=tf.resource, name=None)\n",
            "  139161630896224: TensorSpec(shape=(), dtype=tf.resource, name=None)\n",
            "  139161630897104: TensorSpec(shape=(), dtype=tf.resource, name=None)\n",
            "  139161620546656: TensorSpec(shape=(), dtype=tf.resource, name=None)\n",
            "  139161620546128: TensorSpec(shape=(), dtype=tf.resource, name=None)\n"
          ]
        }
      ]
    },
    {
      "cell_type": "code",
      "source": [
        "tl_model.eval()\n",
        "tl_model.get_eval_results()\n",
        "cm = tl_model.confusion_matrix\n",
        "disp = ConfusionMatrixDisplay(confusion_matrix=cm,\n",
        "                              display_labels = sorted(list(set(y_test))))\n"
      ],
      "metadata": {
        "id": "nA8PR-VK7Vn5",
        "colab": {
          "base_uri": "https://localhost:8080/"
        },
        "outputId": "a8cb8c99-c940-4bc7-800b-22d77ee8c427"
      },
      "execution_count": null,
      "outputs": [
        {
          "output_type": "stream",
          "name": "stdout",
          "text": [
            "\n",
            " Eval Results \n",
            "\n",
            "[[8.3147088e-06 9.3891369e-03 3.6112076e-05 ... 2.3011362e-08\n",
            "  3.8004990e-09 2.2425104e-13]\n",
            " [1.2616155e-06 2.2817794e-06 2.0100199e-06 ... 2.6755252e-08\n",
            "  5.6708327e-08 8.5703444e-11]\n",
            " [4.6188525e-10 5.1160742e-07 1.1407456e-10 ... 2.1782162e-13\n",
            "  9.6792105e-04 9.9902582e-01]\n",
            " ...\n",
            " [9.8405021e-01 9.7048292e-03 5.1137507e-05 ... 2.3146786e-10\n",
            "  5.1246567e-09 6.7053025e-13]\n",
            " [4.1279313e-06 1.7317973e-09 9.2458635e-07 ... 4.0241395e-12\n",
            "  7.7578524e-04 4.4383702e-04]\n",
            " [8.0884178e-08 1.3618996e-10 2.1563892e-14 ... 9.9997151e-01\n",
            "  1.1699173e-11 5.3823150e-08]]\n"
          ]
        }
      ]
    },
    {
      "cell_type": "code",
      "source": [
        "plt.rcParams[\"figure.figsize\"] = (10, 10)\n",
        "plt.rcParams[\"figure.autolayout\"] = True\n",
        "disp.plot()\n",
        "plt.show()"
      ],
      "metadata": {
        "id": "_r_nUwOT7Vn5",
        "colab": {
          "base_uri": "https://localhost:8080/",
          "height": 1000
        },
        "outputId": "be4055a4-d864-4b7c-abe0-728c138d4e6c"
      },
      "execution_count": null,
      "outputs": [
        {
          "output_type": "display_data",
          "data": {
            "text/plain": [
              "<Figure size 1000x1000 with 2 Axes>"
            ],
            "image/png": "[encoded data removed]"
          },
          "metadata": {}
        }
      ]
    },
    {
      "cell_type": "code",
      "source": [
        "print(tl_model.classification_report)"
      ],
      "metadata": {
        "id": "hOICLybo7Vn5",
        "colab": {
          "base_uri": "https://localhost:8080/"
        },
        "outputId": "8c46c81d-1bdc-4c18-9106-482f8aaacb26"
      },
      "execution_count": null,
      "outputs": [
        {
          "output_type": "stream",
          "name": "stdout",
          "text": [
            "              precision    recall  f1-score   support\n",
            "\n",
            "           0       1.00      0.93      0.96      1630\n",
            "           1       1.00      0.92      0.96      1346\n",
            "           2       0.97      0.97      0.97      1153\n",
            "           3       1.00      0.99      0.99      1434\n",
            "           4       0.97      0.99      0.98      1031\n",
            "           5       0.96      1.00      0.98      1144\n",
            "           6       0.99      0.99      0.99      2735\n",
            "           7       0.99      0.99      0.99      1460\n",
            "           8       0.96      0.98      0.97      1470\n",
            "           9       0.95      0.99      0.97      1395\n",
            "          10       0.97      0.98      0.97      1464\n",
            "          11       0.99      0.99      0.99      1742\n",
            "          12       0.98      0.96      0.97      2290\n",
            "          13       0.99      0.97      0.98      1250\n",
            "          14       0.99      0.98      0.99      2314\n",
            "          15       0.99      0.98      0.98      1572\n",
            "          16       0.97      1.00      0.98      1638\n",
            "          17       0.94      0.98      0.96      2522\n",
            "          18       1.00      0.98      0.99      1536\n",
            "          19       0.99      0.99      0.99      1455\n",
            "          20       0.98      0.99      0.99      1390\n",
            "          21       0.99      0.99      0.99      1547\n",
            "\n",
            "    accuracy                           0.98     35518\n",
            "   macro avg       0.98      0.98      0.98     35518\n",
            "weighted avg       0.98      0.98      0.98     35518\n",
            "\n"
          ]
        }
      ]
    },
    {
      "cell_type": "code",
      "source": [],
      "metadata": {
        "id": "ya4D8KsIzBRB"
      },
      "execution_count": null,
      "outputs": []
    },
    {
      "cell_type": "markdown",
      "source": [
        "#ORIGINAL UNDERSAMPLED MODEL"
      ],
      "metadata": {
        "id": "kU2n8ZBrxLGa"
      }
    },
    {
      "cell_type": "code",
      "source": [
        "##Model SubGraph and Trainable\n",
        "path = '/content/keypoint_classifier_20241027010314_32000_undersampled.tflite'"
      ],
      "metadata": {
        "id": "9G_W9ZdKPRcx"
      },
      "execution_count": null,
      "outputs": []
    },
    {
      "cell_type": "code",
      "source": [
        "tl_model = ConvertToTFLite(X_test, y_test, loaded_model,tflite_save_path=path, model_path=None )"
      ],
      "metadata": {
        "id": "c0523zh_990g"
      },
      "execution_count": null,
      "outputs": []
    },
    {
      "cell_type": "code",
      "source": [
        "tl_model.eval()\n",
        "tl_model.get_eval_results()\n",
        "cm = tl_model.confusion_matrix\n",
        "disp = ConfusionMatrixDisplay(confusion_matrix=cm,\n",
        "                              display_labels = sorted(list(set(y_test))))"
      ],
      "metadata": {
        "colab": {
          "base_uri": "https://localhost:8080/"
        },
        "id": "s3Upn9eZLuxz",
        "outputId": "ae3a0e87-5b3a-41a2-e706-00eeb43abeaf"
      },
      "execution_count": null,
      "outputs": [
        {
          "output_type": "stream",
          "name": "stdout",
          "text": [
            "\n",
            " Eval Results \n",
            "\n",
            "[[3.2954351e-05 2.6356759e-02 1.0794286e-04 ... 3.6373194e-06\n",
            "  2.3016511e-09 3.3612777e-13]\n",
            " [7.4704366e-07 1.4746928e-04 8.8385168e-06 ... 2.3376360e-06\n",
            "  1.9814284e-08 7.0205469e-10]\n",
            " [2.6624367e-10 1.5957660e-07 2.2622103e-07 ... 1.1767366e-08\n",
            "  1.3292499e-03 9.9861884e-01]\n",
            " ...\n",
            " [9.9113727e-01 1.2251190e-03 4.4004479e-05 ... 3.2878145e-11\n",
            "  1.7041796e-08 1.7038019e-13]\n",
            " [2.3938057e-05 4.9124839e-08 3.4144272e-05 ... 1.3402104e-10\n",
            "  1.0860983e-03 4.0433980e-03]\n",
            " [7.6761388e-09 3.2304180e-07 4.4816806e-13 ... 9.9992847e-01\n",
            "  1.1636836e-09 8.0281282e-08]]\n"
          ]
        }
      ]
    },
    {
      "cell_type": "code",
      "source": [
        "plt.rcParams[\"figure.figsize\"] = (10, 10)\n",
        "plt.rcParams[\"figure.autolayout\"] = True\n",
        "disp.plot()\n",
        "plt.show()"
      ],
      "metadata": {
        "id": "VSpGJaeWLvD7",
        "colab": {
          "base_uri": "https://localhost:8080/",
          "height": 1000
        },
        "outputId": "eef5cb39-0eae-41cf-c72b-0f02275a27f9"
      },
      "execution_count": null,
      "outputs": [
        {
          "output_type": "display_data",
          "data": {
            "text/plain": [
              "<Figure size 1000x1000 with 2 Axes>"
            ],
            "image/png": "[encoded data removed]"
          },
          "metadata": {}
        }
      ]
    },
    {
      "cell_type": "code",
      "source": [
        "print(tl_model.classification_report)"
      ],
      "metadata": {
        "id": "SKqfngZoLvOW",
        "colab": {
          "base_uri": "https://localhost:8080/"
        },
        "outputId": "80e98488-2d63-4988-97fd-3b17c4cf2825"
      },
      "execution_count": null,
      "outputs": [
        {
          "output_type": "stream",
          "name": "stdout",
          "text": [
            "              precision    recall  f1-score   support\n",
            "\n",
            "           0       0.96      0.82      0.89      1630\n",
            "           1       0.79      0.94      0.86      1346\n",
            "           2       0.84      0.89      0.86      1153\n",
            "           3       0.98      0.96      0.97      1434\n",
            "           4       0.86      0.98      0.92      1031\n",
            "           5       0.90      0.99      0.94      1144\n",
            "           6       0.99      0.94      0.96      2735\n",
            "           7       0.96      0.96      0.96      1460\n",
            "           8       0.80      0.96      0.88      1470\n",
            "           9       0.81      0.94      0.87      1395\n",
            "          10       0.79      0.98      0.88      1464\n",
            "          11       0.88      0.95      0.91      1742\n",
            "          12       0.97      0.71      0.82      2290\n",
            "          13       0.80      0.89      0.84      1250\n",
            "          14       0.97      0.70      0.82      2314\n",
            "          15       0.79      0.85      0.82      1572\n",
            "          16       0.90      0.90      0.90      1638\n",
            "          17       0.91      0.67      0.77      2522\n",
            "          18       0.88      0.93      0.90      1536\n",
            "          19       0.87      0.98      0.93      1455\n",
            "          20       0.91      0.96      0.93      1390\n",
            "          21       0.91      0.97      0.94      1547\n",
            "\n",
            "    accuracy                           0.89     35518\n",
            "   macro avg       0.88      0.90      0.89     35518\n",
            "weighted avg       0.89      0.89      0.88     35518\n",
            "\n"
          ]
        }
      ]
    },
    {
      "cell_type": "markdown",
      "source": [
        "# Original Model SubGraphs And Architecture"
      ],
      "metadata": {
        "id": "AHUX3y8SXkPe"
      }
    },
    {
      "cell_type": "code",
      "source": [
        "\n",
        "\n",
        "tf.lite.experimental.Analyzer.analyze(model_path=path, gpu_compatibility=True)"
      ],
      "metadata": {
        "id": "etVo5X9LNQP5",
        "colab": {
          "base_uri": "https://localhost:8080/"
        },
        "outputId": "8363d1a6-92ff-42fa-c6a0-a9c3c7810649"
      },
      "execution_count": 46,
      "outputs": [
        {
          "output_type": "stream",
          "name": "stdout",
          "text": [
            "=== /content/keypoint_classifier_20241027010314_32000_undersampled.tflite ===\n",
            "\n",
            "Your TFLite model has '1' subgraph(s). In the subgraph description below,\n",
            "T# represents the Tensor numbers. For example, in Subgraph#0, the FULLY_CONNECTED op takes\n",
            "tensor #0 and tensor #8 and tensor #1 as input and produces tensor #9 as output.\n",
            "\n",
            "Subgraph#0 main(T#0) -> [T#13]\n",
            "  Op#0 FULLY_CONNECTED(T#0, T#8, T#1) -> [T#9]\n",
            "  Op#1 FULLY_CONNECTED(T#9, T#7, T#2) -> [T#10]\n",
            "  Op#2 FULLY_CONNECTED(T#10, T#6, T#3) -> [T#11]\n",
            "  Op#3 FULLY_CONNECTED(T#11, T#5, T#4) -> [T#12]\n",
            "  Op#4 SOFTMAX(T#12) -> [T#13]\n",
            "\n",
            "Tensors of Subgraph#0\n",
            "  T#0(serving_default_input_layer:0) shape_signature:[-1, 63], type:FLOAT32\n",
            "  T#1(arith.constant) shape:[1400], type:FLOAT32 RO 5600 bytes, buffer: 2, data:[0.0819035, 0.00570087, 0.0988243, 0.0589449, 0.00024651, ...]\n",
            "  T#2(arith.constant1) shape:[200], type:FLOAT32 RO 800 bytes, buffer: 3, data:[0.0436594, -0.0732807, 0.0722659, 0.0220416, -0.0378029, ...]\n",
            "  T#3(arith.constant2) shape:[60], type:FLOAT32 RO 240 bytes, buffer: 4, data:[0.017302, 0.0103211, -0.00709279, -0.00795611, 0.0294144, ...]\n",
            "  T#4(arith.constant3) shape:[22], type:FLOAT32 RO 88 bytes, buffer: 5, data:[-0.0601848, -0.0305367, 0.0176946, 0.0230234, 0.0671801, ...]\n",
            "  T#5(tfl.pseudo_qconst) shape:[22, 60], type:INT8 RO 1320 bytes, buffer: 6, data:[K, Z, ., ., h, ...]\n",
            "  T#6(tfl.pseudo_qconst1) shape:[60, 200], type:INT8 RO 12000 bytes, buffer: 7, data:[D, .,  , +, ., ...]\n",
            "  T#7(tfl.pseudo_qconst2) shape:[200, 1400], type:INT8 RO 280000 bytes, buffer: 8, data:[ , ., ., ., ., ...]\n",
            "  T#8(sequential_1/dense_1/MatMul) shape:[1400, 63], type:INT8 RO 88200 bytes, buffer: 9, data:[., ., ., ., ., ...]\n",
            "  T#9(sequential_1/dense_1/MatMul;sequential_1/dense_1/Relu;sequential_1/dense_1/Add) shape_signature:[-1, 1400], type:FLOAT32\n",
            "  T#10(sequential_1/dense_1_2/MatMul;sequential_1/dense_1_2/Relu;sequential_1/dense_1_2/Add) shape_signature:[-1, 200], type:FLOAT32\n",
            "  T#11(sequential_1/dense_2_1/MatMul;sequential_1/dense_2_1/Relu;sequential_1/dense_2_1/Add) shape_signature:[-1, 60], type:FLOAT32\n",
            "  T#12(sequential_1/dense_3_1/MatMul;sequential_1/dense_3_1/Add) shape_signature:[-1, 22], type:FLOAT32\n",
            "  T#13(StatefulPartitionedCall_1:0) shape_signature:[-1, 22], type:FLOAT32\n",
            "\n",
            "\n",
            "Your model looks compatible with GPU delegate on TFLite runtime version 2.17.1.\n",
            "This does not guarantee that your model will work well with GPU delegate because there could still be runtime incompatibililties.\n",
            "---------------------------------------------------------------\n",
            "Your TFLite model has '1' signature_def(s).\n",
            "\n",
            "Signature#0 key: 'serving_default'\n",
            "- Subgraph: Subgraph#0\n",
            "- Inputs: \n",
            "    'input_layer' : T#0\n",
            "- Outputs: \n",
            "    'output_0' : T#13\n",
            "\n",
            "---------------------------------------------------------------\n",
            "              Model size:     411008 bytes\n",
            "    Non-data buffer size:      22648 bytes (05.51 %)\n",
            "  Total data buffer size:     388360 bytes (94.49 %)\n",
            "    (Zero value buffers):          0 bytes (00.00 %)\n",
            "\n",
            "* Buffers of TFLite model are mostly used for constant tensors.\n",
            "  And zero value buffers are buffers filled with zeros.\n",
            "  Non-data buffers area are used to store operators, subgraphs and etc.\n",
            "  You can find more details from https://github.com/tensorflow/tensorflow/blob/master/tensorflow/lite/schema/schema.fbs\n",
            "\n"
          ]
        }
      ]
    },
    {
      "cell_type": "markdown",
      "source": [
        "**References:**\n",
        "\n",
        "\n",
        "**Resize Interpretor Input Tensor:** https://www.comet.com/site/blog/running-tensorflow-lite-image-classification-models-in-python/\n",
        "\n",
        "**Classification Report:** https://scikit-learn.org/stable/modules/generated/sklearn.metrics.classification_report.html\n",
        "\n",
        "  **Confusion Matrix:** https://scikit-learn.org/stable/modules/generated/sklearn.metrics.ConfusionMatrixDisplay.html\n",
        "  \n",
        " **TFLite Model Analyzer :** https://ai.google.dev/edge/litert/models/model_analyzer\n"
      ],
      "metadata": {
        "id": "gjZb48nKc3jm"
      }
    }
  ]
}